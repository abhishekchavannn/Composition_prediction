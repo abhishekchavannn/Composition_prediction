{
 "cells": [
  {
   "cell_type": "markdown",
   "id": "b27120c0",
   "metadata": {},
   "source": [
    "# Predicting Composition values at different eta values\n",
    "\n",
    "## Cr-Mo alloy system:\n",
    "\n",
    "### Problem description\n",
    "Using the regression models in a real thermodynamic system.\n",
    "\n",
    "We have applied two supervised alogrithms, Linear regression and K-Nearest Neighbors to predict the composition values at various eta values.\n",
    "\n",
    "#### What does eta values mean?\n",
    "These are dimensionless number, that represent normalized energy parameters which corresponds to:\n",
    "* eta1 - first neighbor cluster\n",
    "* eta2 - second neighbor cluster\n",
    "* eta3 - third neighbor cluster\n",
    "* eta4 - fourth neighbor cluster\n",
    "\n",
    "#### What are the other contents in the dataset?\n",
    "\n",
    "The dataset contains: u0, u1, u2, u3, u4, eta1, eta2, eta3, eta4.\n",
    "Here\n",
    "* u0 - Composition\n",
    "* u1 - Correlation function for I-neighbor pair\n",
    "* u2 - Correlation function for II-neighbor pair\n",
    "* u3 - Correlation function for triangle\n",
    "* u4 - Correlation function for tetrahedron cluster\n",
    "\n",
    "\n"
   ]
  },
  {
   "cell_type": "markdown",
   "id": "db544b4a",
   "metadata": {},
   "source": [
    "## 1. Importing the libraries "
   ]
  },
  {
   "cell_type": "code",
   "execution_count": 9,
   "id": "677ef743-adef-41bc-9296-dc7ada5bc7e9",
   "metadata": {},
   "outputs": [
    {
     "name": "stdout",
     "output_type": "stream",
     "text": [
      "Python version: 3.9.5 (tags/v3.9.5:0a7dcbd, May  3 2021, 17:27:52) [MSC v.1928 64 bit (AMD64)] \n",
      "Pandas version: 1.2.4 \n",
      "Seaborn version: 0.11.1 \n",
      "Matplotlib version: 3.4.2 \n"
     ]
    }
   ],
   "source": [
    "import sys\n",
    "import pandas as pd\n",
    "import seaborn as sn\n",
    "import matplotlib.pyplot \n",
    "\n",
    "print('Python version: {} '.format(sys.version))\n",
    "print('Pandas version: {} '.format(pd.__version__))\n",
    "print('Seaborn version: {} '.format(sn.__version__))\n",
    "print('Matplotlib version: {} '.format(matplotlib.__version__))"
   ]
  },
  {
   "cell_type": "code",
   "execution_count": 11,
   "id": "bd88b887",
   "metadata": {},
   "outputs": [],
   "source": [
    "import matplotlib.pyplot as plt"
   ]
  },
  {
   "cell_type": "markdown",
   "id": "6163caf7",
   "metadata": {},
   "source": [
    "## 2. Reading the dataset\n",
    "Dataset: eta2Dataset.txt"
   ]
  },
  {
   "cell_type": "code",
   "execution_count": 13,
   "id": "821591ed",
   "metadata": {},
   "outputs": [
    {
     "name": "stdout",
     "output_type": "stream",
     "text": [
      "   eta1  eta2  eta3  eta4    u0      u1        u2        u3        u4\n",
      "0     1  0.19     1     1 -0.99  0.9801  0.980019 -0.970219  0.960438\n",
      "1     1  0.19     1     1 -0.95  0.9025  0.900495 -0.855470  0.810891\n",
      "2     1  0.19     1     1 -0.90  0.8100  0.802067 -0.721860  0.643311\n",
      "3     1  0.19     1     1 -0.85  0.7225  0.704861 -0.599132  0.496829\n",
      "4     1  0.19     1     1 -0.80  0.6400  0.609049 -0.487240  0.370941\n"
     ]
    }
   ],
   "source": [
    "dataset = pd.read_csv('eta2Dataset.txt', sep = '\\t')\n",
    "print(dataset.head())"
   ]
  },
  {
   "cell_type": "code",
   "execution_count": 14,
   "id": "893c4021",
   "metadata": {
    "scrolled": true
   },
   "outputs": [
    {
     "data": {
      "text/plain": [
       " 0.00    16\n",
       "-0.70    16\n",
       "-0.20    16\n",
       " 0.90    16\n",
       " 0.85    16\n",
       "-0.75    16\n",
       "-0.35    16\n",
       "-0.50    16\n",
       "-0.80    16\n",
       " 0.20    16\n",
       " 0.45    16\n",
       " 0.35    16\n",
       " 0.25    16\n",
       " 0.60    16\n",
       " 0.70    16\n",
       "-0.99    16\n",
       "-0.60    16\n",
       " 0.75    16\n",
       " 0.30    16\n",
       "-0.05    16\n",
       " 0.15    16\n",
       " 0.10    16\n",
       " 0.95    16\n",
       "-0.10    16\n",
       "-0.85    16\n",
       " 0.80    16\n",
       " 0.40    16\n",
       "-0.65    16\n",
       "-0.40    16\n",
       "-0.90    16\n",
       " 0.65    16\n",
       "-0.15    16\n",
       "-0.30    16\n",
       "-0.25    16\n",
       " 0.05    16\n",
       "-0.55    16\n",
       " 0.55    16\n",
       "-0.45    16\n",
       " 0.50    16\n",
       "-0.95    16\n",
       "Name: u0, dtype: int64"
      ]
     },
     "execution_count": 14,
     "metadata": {},
     "output_type": "execute_result"
    }
   ],
   "source": [
    "# Number of compositions present in dataset\n",
    "dataset['u0'].value_counts()"
   ]
  },
  {
   "cell_type": "markdown",
   "id": "115efc33",
   "metadata": {},
   "source": [
    "## 3. Extracting important parameters\n",
    "\n",
    "#### Input parameters:\n",
    "* eta1\n",
    "* eta2 \n",
    "* eta3\n",
    "* eta4\n",
    "\n",
    "#### Target variable: u0 (Composition)\n"
   ]
  },
  {
   "cell_type": "code",
   "execution_count": 15,
   "id": "67d5d25d",
   "metadata": {},
   "outputs": [
    {
     "name": "stdout",
     "output_type": "stream",
     "text": [
      "(640, 4)\n",
      "(640, 1)\n"
     ]
    }
   ],
   "source": [
    "# Extracting input parameters and target variable\n",
    "xvalues = pd.DataFrame([dataset.eta1, dataset.eta2, dataset.eta3, dataset.eta4]).T\n",
    "yvalues = pd.DataFrame([dataset.u0]).T\n",
    "\n",
    "print(xvalues.shape)\n",
    "print(yvalues.shape)"
   ]
  },
  {
   "cell_type": "markdown",
   "id": "75ea6232",
   "metadata": {},
   "source": [
    "###### Note:\n",
    "Here, the only column which is not simple as eta1, 3, 4 is eta2 which can be seen by the plot below. We will vary eta2 by keeping the rest of the values fixed which will make this problem easier. Also we take only one target variable as u0 making it a case of many-to-one modeling. "
   ]
  },
  {
   "cell_type": "code",
   "execution_count": 20,
   "id": "3ccae4e5",
   "metadata": {},
   "outputs": [
    {
     "name": "stderr",
     "output_type": "stream",
     "text": [
      "c:\\users\\asus\\appdata\\local\\programs\\python\\python39\\lib\\site-packages\\seaborn\\distributions.py:306: UserWarning: Dataset has 0 variance; skipping density estimate.\n",
      "  warnings.warn(msg, UserWarning)\n",
      "c:\\users\\asus\\appdata\\local\\programs\\python\\python39\\lib\\site-packages\\seaborn\\distributions.py:306: UserWarning: Dataset has 0 variance; skipping density estimate.\n",
      "  warnings.warn(msg, UserWarning)\n"
     ]
    },
    {
     "data": {
      "text/plain": [
       "<seaborn.axisgrid.PairGrid at 0x18b64871fa0>"
      ]
     },
     "execution_count": 20,
     "metadata": {},
     "output_type": "execute_result"
    },
    {
     "data": {
      "image/png": "[encoded data removed]",
      "text/plain": [
       "<Figure size 591.875x540 with 12 Axes>"
      ]
     },
     "metadata": {
      "needs_background": "light"
     },
     "output_type": "display_data"
    }
   ],
   "source": [
    "# Input data visualization\n",
    "sn.pairplot(xvalues, hue = 'eta1')"
   ]
  },
  {
   "cell_type": "markdown",
   "id": "750ad186",
   "metadata": {},
   "source": [
    "## 4. Splitting the dataset into training and testing sets "
   ]
  },
  {
   "cell_type": "code",
   "execution_count": 21,
   "id": "0acaddc8",
   "metadata": {},
   "outputs": [
    {
     "name": "stdout",
     "output_type": "stream",
     "text": [
      "(512, 4)\n",
      "(512, 1)\n",
      "(128, 4)\n",
      "(128, 1)\n"
     ]
    }
   ],
   "source": [
    "# splitting the input parameters and target variable in testing and training datasets\n",
    "\n",
    "from sklearn.model_selection import train_test_split\n",
    "\n",
    "# the test set has 20% of the data and rest 80% for training\n",
    "\n",
    "xtrain, xtest, ytrain, ytest = train_test_split(xvalues, yvalues, test_size = 0.20)\n",
    "print(xtrain.shape)\n",
    "print(ytrain.shape)\n",
    "print(xtest.shape)\n",
    "print(ytest.shape)"
   ]
  },
  {
   "cell_type": "markdown",
   "id": "9eaddec5",
   "metadata": {},
   "source": [
    "## 5. Applying a Linear Regression model\n",
    "\n",
    "We try to fit the linear model on our dataset using sklearn library and predict the test and training values. "
   ]
  },
  {
   "cell_type": "code",
   "execution_count": 33,
   "id": "85b2ee40",
   "metadata": {},
   "outputs": [],
   "source": [
    "# Applying linear regression model\n",
    "\n",
    "from sklearn import linear_model\n",
    "from sklearn.metrics import mean_absolute_error\n",
    "\n",
    "li = linear_model.LinearRegression()\n",
    "li.fit(xtrain, ytrain)\n",
    "testPredictions = li.predict(xtest)\n",
    "trainingPredictions = li.predict(xtrain)"
   ]
  },
  {
   "cell_type": "code",
   "execution_count": 34,
   "id": "8efbd580",
   "metadata": {},
   "outputs": [
    {
     "name": "stdout",
     "output_type": "stream",
     "text": [
      "Accuracy of linear model on training dataset : 49.709004178502795 % \n",
      "Accuracy of linear model on training dataset : 51.05961513782863 % \n"
     ]
    }
   ],
   "source": [
    "# Accuracy of Linear model on our dataset\n",
    "\n",
    "print('Accuracy of linear model on training dataset : {} % '.format((mean_absolute_error(ytrain, trainingPredictions))*100))\n",
    "print('Accuracy of linear model on training dataset : {} % '.format((mean_absolute_error(ytest, testPredictions))*100))"
   ]
  },
  {
   "cell_type": "markdown",
   "id": "29af8a00",
   "metadata": {},
   "source": [
    "## 6. Applying K-Nearest Neighbor (KNN)\n",
    "\n",
    "As we can see from above result that linear model is less efficient as gives the accuracy of approx. 50%. Hence we try to fit KNN model on our dataset to calculate the efficiency. "
   ]
  },
  {
   "cell_type": "code",
   "execution_count": 37,
   "id": "1f96757c",
   "metadata": {},
   "outputs": [
    {
     "name": "stdout",
     "output_type": "stream",
     "text": [
      "Accuracy of K-Nearest Neighbor model on training dataset : 59.11328125000001 % \n"
     ]
    }
   ],
   "source": [
    "# Using another supervised alogorithm, KNN to our dataset\n",
    "\n",
    "import math\n",
    "from sklearn.neighbors import KNeighborsRegressor\n",
    "\n",
    "knn = KNeighborsRegressor(n_neighbors = 2)\n",
    "knn.fit(xtrain, ytrain)\n",
    "trainingPredictions = knn.predict(xtrain)\n",
    "print('Accuracy of K-Nearest Neighbor model on training dataset : {} % '.format((mean_absolute_error(ytrain, trainingPredictions))*100))"
   ]
  },
  {
   "cell_type": "code",
   "execution_count": 39,
   "id": "db1178c3",
   "metadata": {},
   "outputs": [
    {
     "data": {
      "image/png": "[encoded data removed]",
      "text/plain": [
       "<Figure size 432x288 with 1 Axes>"
      ]
     },
     "metadata": {
      "needs_background": "light"
     },
     "output_type": "display_data"
    }
   ],
   "source": [
    "# Plotting input and predicted values by the KNN model\n",
    "\n",
    "plt.scatter(xtrain['eta2'], ytrain, s=5, color = 'green', label = 'Original datapoints')\n",
    "plt.scatter(xtrain['eta2'], trainingPredictions, lw=1.5, color = 'red', label = 'Predicted datapoints')\n",
    "plt.show()"
   ]
  },
  {
   "cell_type": "code",
   "execution_count": 40,
   "id": "7f5b8fac",
   "metadata": {},
   "outputs": [
    {
     "name": "stdout",
     "output_type": "stream",
     "text": [
      "Accuracy of K-Nearest Neighbor model on training dataset : 51.05961513782863 % \n"
     ]
    }
   ],
   "source": [
    "# Trying to fit KNN on the testing data\n",
    "\n",
    "knn = KNeighborsRegressor(n_neighbors = 2)\n",
    "knn.fit(xtest, ytest)\n",
    "testingPredictions = knn.predict(xtest)\n",
    "print('Accuracy of K-Nearest Neighbor model on training dataset : {} % '.format((mean_absolute_error(ytest, testPredictions))*100))"
   ]
  },
  {
   "cell_type": "markdown",
   "id": "0fb935cc",
   "metadata": {},
   "source": [
    "## 7. Results\n",
    "\n",
    "* Accuracy of linear model on training dataset : 49.709004178502795 % \n",
    "* Accuracy of linear model on training dataset : 51.05961513782863 % \n",
    "* Accuracy of K-Nearest Neighbor model on training dataset : 59.11328125000001 % \n",
    "* Accuracy of K-Nearest Neighbor model on training dataset : 51.05961513782863 % \n",
    "\n",
    "Using the efficient model, preferbly the KNN model can be used to predict the composition values at different eta values."
   ]
  }
 ],
 "metadata": {
  "kernelspec": {
   "display_name": "Python 3",
   "language": "python",
   "name": "python3"
  },
  "language_info": {
   "codemirror_mode": {
    "name": "ipython",
    "version": 3
   },
   "file_extension": ".py",
   "mimetype": "text/x-python",
   "name": "python",
   "nbconvert_exporter": "python",
   "pygments_lexer": "ipython3",
   "version": "3.9.5"
  }
 },
 "nbformat": 4,
 "nbformat_minor": 5
}
